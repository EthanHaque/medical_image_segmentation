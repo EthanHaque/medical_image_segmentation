{
 "cells": [
  {
   "cell_type": "code",
   "execution_count": null,
   "id": "initial_id",
   "metadata": {
    "collapsed": true
   },
   "outputs": [],
   "source": [
    "from typing import List\n",
    "\n",
    "import medical_image_segmentation.analyze_data.utils as utils\n",
    "import matplotlib.pyplot as plt\n",
    "import numpy as np\n",
    "from collections import Counter\n",
    "\n",
    "import json\n",
    "import os"
   ]
  },
  {
   "cell_type": "code",
   "outputs": [],
   "source": [
    "def plot_image_shapes(image_shapes: List[List[int]]):\n",
    "    \"\"\"\n",
    "    Plot image sizes on a scatter plot, with more frequent sizes represented by larger points.\n",
    "\n",
    "    Parameters\n",
    "    ----------\n",
    "    image_shapes : List[List[int]] List of width, height pairs.\n",
    "    \"\"\"\n",
    "    shape_counter = Counter(tuple(shape) for shape in image_shapes)\n",
    "    widths, heights, counts = zip(*[(shape[0], shape[1], count) for shape, count in shape_counter.items()])\n",
    "\n",
    "    widths = np.array(widths)\n",
    "    heights = np.array(heights)\n",
    "    counts = np.array(counts)\n",
    "    \n",
    "    max_size = 10_000\n",
    "    min_size = 1\n",
    "    point_sizes = np.clip(counts / np.max(counts) * max_size, min_size, max_size)\n",
    "\n",
    "    plt.figure(figsize=(10, 6))\n",
    "    plt.scatter(widths, heights, s=point_sizes, c=np.sqrt(widths * heights), cmap=\"cool\", alpha=0.8)\n",
    "    plt.colorbar(label=\"Sqrt of Area (pixels^2)\")\n",
    "    plt.title(\"Distribution of DICOM Image Dimensions\")\n",
    "    plt.xlabel(\"Width (pixels)\")\n",
    "    plt.ylabel(\"Height (pixels)\")\n",
    "    plt.tight_layout()\n",
    "\n",
    "    plt.show()"
   ],
   "metadata": {
    "collapsed": false
   },
   "id": "ac7313fe2fdda5e6",
   "execution_count": null
  },
  {
   "cell_type": "code",
   "outputs": [],
   "source": [
    "dir_path = [\"/scratch/gpfs/eh0560/data/med_datasets\", \"/scratch/gpfs/RUSTOW/med_datasets\"]\n",
    "files = utils.get_file_paths(dir_path, lambda path: path.endswith(\".dcm\"))"
   ],
   "metadata": {
    "collapsed": false
   },
   "id": "1cf12d466ca02569",
   "execution_count": null
  },
  {
   "cell_type": "code",
   "outputs": [],
   "source": [
    "dimensions_output_path = \"/scratch/gpfs/eh0560/repos/medical-image-segmentation/data/dicom_image_analysis_info/dicom_image_dimensions.json\""
   ],
   "metadata": {
    "collapsed": false
   },
   "id": "ac1d7e05cec4e0d4",
   "execution_count": null
  },
  {
   "cell_type": "code",
   "outputs": [],
   "source": [
    "if os.path.isfile(dimensions_output_path):\n",
    "    with open(dimensions_output_path, \"r\") as f:\n",
    "        dimensions = json.load(f)\n",
    "else:\n",
    "    dimensions = utils.get_dicom_image_dimensions(files, num_processes=8)\n",
    "    with open(dimensions_output_path, \"w\") as f:\n",
    "        json.dump(dimensions, f)"
   ],
   "metadata": {
    "collapsed": false
   },
   "id": "e8afbd4b31e7914c",
   "execution_count": null
  },
  {
   "cell_type": "code",
   "outputs": [],
   "source": [
    "plot_image_shapes(list(dimensions.values()))"
   ],
   "metadata": {
    "collapsed": false
   },
   "id": "f7b116a339bdba6a",
   "execution_count": null
  },
  {
   "cell_type": "code",
   "outputs": [],
   "source": [
    "subset_768 = {}\n",
    "for path, dim in dimensions.items():\n",
    "    if dim[0] <= 768 and dim[1] <= 768:\n",
    "        subset_768[path] = dim"
   ],
   "metadata": {
    "collapsed": false
   },
   "id": "3cfc6421684c5086",
   "execution_count": null
  },
  {
   "cell_type": "code",
   "outputs": [],
   "source": [
    "plot_image_shapes(list(subset_768.values()))"
   ],
   "metadata": {
    "collapsed": false
   },
   "id": "233387447f2221d7",
   "execution_count": null
  },
  {
   "cell_type": "code",
   "outputs": [],
   "source": [
    "datasets = {}\n",
    "for key in subset_768:\n",
    "    suffix = key.split(\"med_datasets/\")[1]\n",
    "    dataset_name = suffix.split(\"/\")[0]\n",
    "    if dataset_name in datasets: \n",
    "        datasets[dataset_name].append(key)\n",
    "    else:\n",
    "        datasets[dataset_name] = [key]"
   ],
   "metadata": {
    "collapsed": false,
    "ExecuteTime": {
     "end_time": "2024-03-06T00:38:42.177938Z",
     "start_time": "2024-03-06T00:38:40.673879Z"
    }
   },
   "id": "e8cd918818919942",
   "execution_count": 11
  },
  {
   "cell_type": "code",
   "outputs": [
    {
     "name": "stdout",
     "output_type": "stream",
     "text": [
      "dukebreastcancer: 773253\n",
      "remind: 84986\n",
      "tcgakirc: 191391\n",
      "midrc: 21220\n",
      "cptacccrcc: 98639\n",
      "hcctace: 51968\n",
      "cctumor: 131391\n",
      "tcgablca: 110896\n",
      "pancreasct: 18942\n",
      "ctcolongraphy: 940877\n"
     ]
    }
   ],
   "source": [
    "for dataset, images in datasets.items():\n",
    "    print(f\"{dataset}: {len(images)}\")    "
   ],
   "metadata": {
    "collapsed": false,
    "ExecuteTime": {
     "end_time": "2024-03-06T01:00:16.171098Z",
     "start_time": "2024-03-06T01:00:16.167396Z"
    }
   },
   "id": "b68085ede2784330",
   "execution_count": 22
  },
  {
   "cell_type": "code",
   "outputs": [],
   "source": [
    "count = 0\n",
    "for dataset, images in datasets.items():\n",
    "    if len(images) < 700_000:\n",
    "        count += len(images)"
   ],
   "metadata": {
    "collapsed": false,
    "ExecuteTime": {
     "end_time": "2024-03-06T01:00:17.906776Z",
     "start_time": "2024-03-06T01:00:17.903558Z"
    }
   },
   "id": "b9d15a6460e4ddb6",
   "execution_count": 23
  },
  {
   "cell_type": "code",
   "outputs": [
    {
     "name": "stdout",
     "output_type": "stream",
     "text": [
      "145283 145284 1000000\n"
     ]
    }
   ],
   "source": [
    "remaining = 1_000_000 - count\n",
    "duke_images = remaining // 2\n",
    "colongraphy_images = remaining - duke_images\n",
    "print(duke_images, colongraphy_images, count + duke_images + colongraphy_images)"
   ],
   "metadata": {
    "collapsed": false,
    "ExecuteTime": {
     "end_time": "2024-03-06T01:04:40.635560Z",
     "start_time": "2024-03-06T01:04:40.632449Z"
    }
   },
   "id": "7c37a85d992e40e3",
   "execution_count": 27
  }
 ],
 "metadata": {
  "kernelspec": {
   "display_name": "Python 3",
   "language": "python",
   "name": "python3"
  },
  "language_info": {
   "codemirror_mode": {
    "name": "ipython",
    "version": 2
   },
   "file_extension": ".py",
   "mimetype": "text/x-python",
   "name": "python",
   "nbconvert_exporter": "python",
   "pygments_lexer": "ipython2",
   "version": "2.7.6"
  }
 },
 "nbformat": 4,
 "nbformat_minor": 5
}
