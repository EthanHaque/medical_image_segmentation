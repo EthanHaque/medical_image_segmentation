{
 "cells": [
  {
   "cell_type": "code",
   "execution_count": null,
   "id": "initial_id",
   "metadata": {},
   "outputs": [],
   "source": [
    "import random\n",
    "from typing import List, Tuple\n",
    "\n",
    "import medical_image_segmentation.analyze_data.utils as utils\n",
    "import matplotlib.pyplot as plt\n",
    "import matplotlib as mpl\n",
    "\n",
    "import numpy as np\n",
    "from collections import Counter, defaultdict\n",
    "\n",
    "from PIL import Image\n",
    "\n",
    "import json"
   ]
  },
  {
   "cell_type": "code",
   "outputs": [],
   "source": [
    "mpl.rc('image', cmap='cool')"
   ],
   "metadata": {
    "collapsed": false
   },
   "id": "9d8001bf24961aa3",
   "execution_count": null
  },
  {
   "cell_type": "code",
   "execution_count": null,
   "id": "aa57547f5060edc1",
   "metadata": {},
   "outputs": [],
   "source": [
    "def get_discrete_colors(n: int, solid=False) -> List[Tuple[float, float, float, float]]:\n",
    "    \"\"\"\n",
    "    Gets the discrete colors for all plots.\n",
    "    \n",
    "    Parameters\n",
    "    ----------\n",
    "    n : int The number of items to get colors for.\n",
    "    solid : bool [default: False] If True, all colors are the same. Otherwise, returns a discrete sampling over a gradient.\n",
    "\n",
    "    Returns\n",
    "    -------\n",
    "    List[Tuple[float, float, float, float]]\n",
    "        List of tuples of RGBA colors.\n",
    "    \"\"\"\n",
    "    if solid:\n",
    "        return [mpl.colors.to_rgba(\"darkorchid\") for x in range(n)]\n",
    "    else:\n",
    "        cmap = mpl.colormaps[\"cool\"]\n",
    "        return cmap(np.linspace(0, 1, n))"
   ]
  },
  {
   "cell_type": "code",
   "execution_count": null,
   "id": "ac7313fe2fdda5e6",
   "metadata": {},
   "outputs": [],
   "source": [
    "def plot_image_shapes(image_shapes: List[List[int]]):\n",
    "    \"\"\"\n",
    "    Plot image sizes on a scatter plot, with more frequent sizes represented by larger points.\n",
    "\n",
    "    Parameters\n",
    "    ----------\n",
    "    image_shapes : List[List[int]] List of width, height pairs.\n",
    "    \"\"\"\n",
    "    shape_counter = Counter(tuple(shape) for shape in image_shapes)\n",
    "    widths, heights, counts = zip(*[(shape[0], shape[1], count) for shape, count in shape_counter.items()])\n",
    "\n",
    "    widths = np.array(widths)\n",
    "    heights = np.array(heights)\n",
    "    counts = np.array(counts)\n",
    "    \n",
    "    max_size = 10_000\n",
    "    min_size = 1\n",
    "    point_sizes = np.clip(counts / np.max(counts) * max_size, min_size, max_size)\n",
    "\n",
    "    plt.figure(figsize=(10, 6))\n",
    "    plt.scatter(widths, heights, s=point_sizes, c=np.sqrt(widths * heights), alpha=0.8)\n",
    "    plt.colorbar(label=\"Sqrt of Area (pixels)\")\n",
    "    plt.title(\"Distribution of Image Dimensions\")\n",
    "    plt.xlabel(\"Width (pixels)\")\n",
    "    plt.ylabel(\"Height (pixels)\")\n",
    "    plt.tight_layout()\n",
    "\n",
    "    plt.show()"
   ]
  },
  {
   "cell_type": "code",
   "execution_count": null,
   "id": "f286252ad8e902e8",
   "metadata": {},
   "outputs": [],
   "source": [
    "def plot_dataset_counts(dataset_dict: dict[str, int]):\n",
    "    \"\"\"\n",
    "    Plot the number of images in each dataset.\n",
    "\n",
    "    Parameters\n",
    "    ----------\n",
    "    dataset_dict : dict[str, int]\n",
    "        A dictionary where the keys are the name of the dataset and the value is the number of images in that dataset.\n",
    "    \"\"\"\n",
    "    names = sorted(list(dataset_dict.keys()))\n",
    "    counts = []\n",
    "    for dataset_name in names:\n",
    "        counts.append(dataset_dict[dataset_name])\n",
    "    n = len(counts)\n",
    "    \n",
    "    plt.figure(figsize=(10, 6))\n",
    "    plt.bar(names, counts, color=get_discrete_colors(n, solid=True))\n",
    "    plt.title(\"Distribution of Images in Each Dataset\")\n",
    "    plt.xlabel(\"Dataset\")\n",
    "    plt.xticks(rotation=45, ha=\"right\")\n",
    "    plt.ylabel(\"Frequency\")\n",
    "    plt.tight_layout()\n",
    "\n",
    "    plt.show()"
   ]
  },
  {
   "cell_type": "code",
   "execution_count": null,
   "id": "1cf12d466ca02569",
   "metadata": {},
   "outputs": [],
   "source": [
    "images_root_dir = \"/scratch/gpfs/eh0560/data/med_datasets/radiology_1M\"\n",
    "dimensions_path = \"/scratch/gpfs/eh0560/repos/medical-image-segmentation/data/subset_info/image_dimensions.json\"\n",
    "original_to_new_map_path = \"/scratch/gpfs/eh0560/repos/medical-image-segmentation/data/subset_info/original_to_new_map.json\""
   ]
  },
  {
   "cell_type": "code",
   "outputs": [],
   "source": [
    "image_paths = utils.get_file_paths(images_root_dir, lambda path: path.endswith(\".png\"))\n",
    "print(len(image_paths))"
   ],
   "metadata": {
    "collapsed": false
   },
   "id": "993924d28349d388",
   "execution_count": null
  },
  {
   "cell_type": "code",
   "outputs": [],
   "source": [
    "with open(dimensions_path, \"r\") as f:\n",
    "        dimensions = json.load(f)\n",
    "        subset_dimensions = {}\n",
    "        for file_path in image_paths:\n",
    "            subset_dimensions[file_path] = dimensions[file_path]\n",
    "\n",
    "if len(subset_dimensions) != len(image_paths):\n",
    "    raise ValueError(f\"subset_dimensions has length different than files. Length of files is {len(image_paths)}, and length of subset_dimensions is {len(subset_dimensions)}\")"
   ],
   "metadata": {
    "collapsed": false
   },
   "id": "c5b01fe3b82a979f",
   "execution_count": null
  },
  {
   "cell_type": "code",
   "outputs": [],
   "source": [
    "with open(original_to_new_map_path, \"r\") as f:\n",
    "    original_to_new_map = json.load(f)\n",
    "\n",
    "new_to_original_path = {}\n",
    "for original_path, new_path in original_to_new_map.items():\n",
    "    new_to_original_path[new_path] = original_path"
   ],
   "metadata": {
    "collapsed": false
   },
   "id": "f2b7e7b9172844de",
   "execution_count": null
  },
  {
   "cell_type": "code",
   "execution_count": null,
   "id": "f7b116a339bdba6a",
   "metadata": {},
   "outputs": [],
   "source": [
    "plot_image_shapes(list(subset_dimensions.values()))"
   ]
  },
  {
   "cell_type": "code",
   "execution_count": null,
   "id": "74fe9e78cb49d4ff",
   "metadata": {},
   "outputs": [],
   "source": [
    "dataset_counts = defaultdict(int)\n",
    "for file_path in image_paths:\n",
    "    original_path = new_to_original_path[file_path]\n",
    "    dataset_name = original_path.split(\"med_datasets/\")[1].split(\"/\")[0]\n",
    "    dataset_counts[dataset_name] += 1"
   ]
  },
  {
   "cell_type": "code",
   "execution_count": null,
   "id": "7f42a91d492f4eb0",
   "metadata": {},
   "outputs": [],
   "source": [
    "plot_dataset_counts(dataset_counts)"
   ]
  },
  {
   "cell_type": "code",
   "outputs": [],
   "source": [],
   "metadata": {
    "collapsed": false
   },
   "id": "62298f7b7da84bbf",
   "execution_count": null
  }
 ],
 "metadata": {
  "kernelspec": {
   "name": "python3",
   "language": "python",
   "display_name": "Python 3 (ipykernel)"
  },
  "language_info": {
   "codemirror_mode": {
    "name": "ipython",
    "version": 3
   },
   "file_extension": ".py",
   "mimetype": "text/x-python",
   "name": "python",
   "nbconvert_exporter": "python",
   "pygments_lexer": "ipython3",
   "version": "3.9.18"
  }
 },
 "nbformat": 4,
 "nbformat_minor": 5
}
