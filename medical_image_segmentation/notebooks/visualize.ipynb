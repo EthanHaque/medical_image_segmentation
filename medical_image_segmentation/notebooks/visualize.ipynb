{
 "cells": [
  {
   "cell_type": "code",
   "execution_count": 8,
   "id": "initial_id",
   "metadata": {
    "ExecuteTime": {
     "end_time": "2024-03-13T05:06:48.711567Z",
     "start_time": "2024-03-13T05:06:48.707542Z"
    }
   },
   "outputs": [],
   "source": [
    "from typing import List, Tuple\n",
    "\n",
    "import medical_image_segmentation.analyze_data.utils as utils\n",
    "import matplotlib.pyplot as plt\n",
    "import matplotlib as mpl\n",
    "\n",
    "import numpy as np\n",
    "from collections import Counter, defaultdict\n",
    "\n",
    "import json\n",
    "import os\n",
    "\n",
    "import pydicom\n",
    "import random\n"
   ]
  },
  {
   "cell_type": "code",
   "execution_count": 9,
   "id": "aa57547f5060edc1",
   "metadata": {
    "ExecuteTime": {
     "end_time": "2024-03-13T05:06:48.914797Z",
     "start_time": "2024-03-13T05:06:48.911258Z"
    }
   },
   "outputs": [],
   "source": [
    "mpl.rc('image', cmap='cool')\n",
    "\n",
    "def get_discrete_colors(n: int, solid=False) -> List[Tuple[float, float, float, float]]:\n",
    "    \"\"\"\n",
    "    Gets the discrete colors for all plots.\n",
    "    \n",
    "    Parameters\n",
    "    ----------\n",
    "    n : int The number of items to get colors for.\n",
    "    solid : bool [default: False] If True, all colors are the same. Otherwise, returns a discrete sampling over a gradient.\n",
    "\n",
    "    Returns\n",
    "    -------\n",
    "    List[Tuple[float, float, float, float]]\n",
    "        List of tuples of RGBA colors.\n",
    "    \"\"\"\n",
    "    if solid:\n",
    "        return [mpl.colors.to_rgba(\"darkorchid\") for x in range(n)]\n",
    "    else:\n",
    "        cmap = mpl.colormaps[\"cool\"]\n",
    "        return cmap(np.linspace(0, 1, n))"
   ]
  },
  {
   "cell_type": "code",
   "execution_count": 10,
   "id": "ac7313fe2fdda5e6",
   "metadata": {
    "ExecuteTime": {
     "end_time": "2024-03-13T05:06:49.096109Z",
     "start_time": "2024-03-13T05:06:49.091590Z"
    }
   },
   "outputs": [],
   "source": [
    "def plot_image_shapes(image_shapes: List[List[int]]):\n",
    "    \"\"\"\n",
    "    Plot image sizes on a scatter plot, with more frequent sizes represented by larger points.\n",
    "\n",
    "    Parameters\n",
    "    ----------\n",
    "    image_shapes : List[List[int]] List of width, height pairs.\n",
    "    \"\"\"\n",
    "    shape_counter = Counter(tuple(shape) for shape in image_shapes)\n",
    "    widths, heights, counts = zip(*[(shape[0], shape[1], count) for shape, count in shape_counter.items()])\n",
    "\n",
    "    widths = np.array(widths)\n",
    "    heights = np.array(heights)\n",
    "    counts = np.array(counts)\n",
    "    \n",
    "    max_size = 10_000\n",
    "    min_size = 1\n",
    "    point_sizes = np.clip(counts / np.max(counts) * max_size, min_size, max_size)\n",
    "\n",
    "    plt.figure(figsize=(10, 6))\n",
    "    plt.scatter(widths, heights, s=point_sizes, c=np.sqrt(widths * heights), alpha=0.8)\n",
    "    plt.colorbar(label=\"Sqrt of Area (pixels^2)\")\n",
    "    plt.title(\"Distribution of DICOM Image Dimensions\")\n",
    "    plt.xlabel(\"Width (pixels)\")\n",
    "    plt.ylabel(\"Height (pixels)\")\n",
    "    plt.tight_layout()\n",
    "\n",
    "    plt.show()"
   ]
  },
  {
   "cell_type": "code",
   "execution_count": 11,
   "id": "f286252ad8e902e8",
   "metadata": {
    "ExecuteTime": {
     "end_time": "2024-03-13T05:06:49.264568Z",
     "start_time": "2024-03-13T05:06:49.260244Z"
    }
   },
   "outputs": [],
   "source": [
    "def plot_dataset_counts(dataset_dict: dict[str, int]):\n",
    "    \"\"\"\n",
    "    Plot the number of images in each dataset.\n",
    "\n",
    "    Parameters\n",
    "    ----------\n",
    "    dataset_dict : dict[str, int]\n",
    "        A dictionary where the keys are the name of the dataset and the value is the number of images in that dataset.\n",
    "    \"\"\"\n",
    "    names = sorted(list(dataset_dict.keys()))\n",
    "    counts = []\n",
    "    for dataset_name in names:\n",
    "        counts.append(dataset_dict[dataset_name])\n",
    "    n = len(counts)\n",
    "    \n",
    "    plt.figure(figsize=(10, 6))\n",
    "    plt.bar(names, counts, color=get_discrete_colors(n, solid=True))\n",
    "    plt.title(\"Distribution of DICOM Images in Each Dataset\")\n",
    "    plt.xlabel(\"Dataset\")\n",
    "    plt.xticks(rotation=45, ha=\"right\")\n",
    "    plt.ylabel(\"Frequency\")\n",
    "    plt.tight_layout()\n",
    "\n",
    "    plt.show()"
   ]
  },
  {
   "cell_type": "code",
   "execution_count": 12,
   "id": "1cf12d466ca02569",
   "metadata": {
    "ExecuteTime": {
     "end_time": "2024-03-13T05:06:49.436762Z",
     "start_time": "2024-03-13T05:06:49.434364Z"
    }
   },
   "outputs": [],
   "source": [
    "image_paths_file_path = \"/scratch/gpfs/eh0560/repos/medical-image-segmentation/data/dicom_image_analysis_info/image_paths\"\n",
    "dimensions_path = \"/scratch/gpfs/eh0560/repos/medical-image-segmentation/data/dicom_image_analysis_info/image_dimensions.json\""
   ]
  },
  {
   "cell_type": "code",
   "execution_count": 13,
   "id": "f3af14cf124f6a3d",
   "metadata": {
    "ExecuteTime": {
     "end_time": "2024-03-13T05:06:50.196984Z",
     "start_time": "2024-03-13T05:06:49.882800Z"
    }
   },
   "outputs": [],
   "source": [
    "with open(image_paths_file_path, \"r\") as f:\n",
    "    files = f.readlines()\n",
    "\n",
    "files = [file.strip() for file in files]"
   ]
  },
  {
   "cell_type": "code",
   "execution_count": 14,
   "id": "e8afbd4b31e7914c",
   "metadata": {
    "ExecuteTime": {
     "end_time": "2024-03-13T05:06:53.348201Z",
     "start_time": "2024-03-13T05:06:50.465966Z"
    }
   },
   "outputs": [
    {
     "ename": "ValueError",
     "evalue": "subset_dimensions has length different than files. Length of files is 1000000, and length of subset_dimensions is 933207",
     "output_type": "error",
     "traceback": [
      "\u001B[0;31m---------------------------------------------------------------------------\u001B[0m",
      "\u001B[0;31mValueError\u001B[0m                                Traceback (most recent call last)",
      "Cell \u001B[0;32mIn[14], line 9\u001B[0m\n\u001B[1;32m      6\u001B[0m             subset_dimensions[file_path] \u001B[38;5;241m=\u001B[39m dimensions[file_path]\n\u001B[1;32m      8\u001B[0m     \u001B[38;5;28;01mif\u001B[39;00m \u001B[38;5;28mlen\u001B[39m(subset_dimensions) \u001B[38;5;241m!=\u001B[39m \u001B[38;5;28mlen\u001B[39m(files):\n\u001B[0;32m----> 9\u001B[0m         \u001B[38;5;28;01mraise\u001B[39;00m \u001B[38;5;167;01mValueError\u001B[39;00m(\u001B[38;5;124mf\u001B[39m\u001B[38;5;124m\"\u001B[39m\u001B[38;5;124msubset_dimensions has length different than files. Length of files is \u001B[39m\u001B[38;5;132;01m{\u001B[39;00m\u001B[38;5;28mlen\u001B[39m(files)\u001B[38;5;132;01m}\u001B[39;00m\u001B[38;5;124m, and length of subset_dimensions is \u001B[39m\u001B[38;5;132;01m{\u001B[39;00m\u001B[38;5;28mlen\u001B[39m(subset_dimensions)\u001B[38;5;132;01m}\u001B[39;00m\u001B[38;5;124m\"\u001B[39m)\n\u001B[1;32m     10\u001B[0m \u001B[38;5;28;01melse\u001B[39;00m:\n\u001B[1;32m     11\u001B[0m     subset_dimensions \u001B[38;5;241m=\u001B[39m utils\u001B[38;5;241m.\u001B[39mget_raster_image_dimensions(files, num_processes\u001B[38;5;241m=\u001B[39m\u001B[38;5;241m8\u001B[39m)\n",
      "\u001B[0;31mValueError\u001B[0m: subset_dimensions has length different than files. Length of files is 1000000, and length of subset_dimensions is 933207"
     ]
    }
   ],
   "source": [
    "if os.path.isfile(dimensions_path):\n",
    "    with open(dimensions_path, \"r\") as f:\n",
    "        dimensions = json.load(f)\n",
    "        subset_dimensions = {}\n",
    "        for file_path in files:\n",
    "            subset_dimensions[file_path] = dimensions[file_path]\n",
    "        \n",
    "    if len(subset_dimensions) != len(files):\n",
    "        raise ValueError(f\"subset_dimensions has length different than files. Length of files is {len(files)}, and length of subset_dimensions is {len(subset_dimensions)}\")\n",
    "else:\n",
    "    subset_dimensions = utils.get_raster_image_dimensions(files, num_processes=8)\n",
    "    with open(dimensions_path, \"w\") as f:\n",
    "        json.dump(subset_dimensions, f)"
   ]
  },
  {
   "cell_type": "code",
   "execution_count": null,
   "id": "f7b116a339bdba6a",
   "metadata": {},
   "outputs": [],
   "source": [
    "plot_image_shapes(list(subset_dimensions.values()))"
   ]
  },
  {
   "cell_type": "code",
   "execution_count": null,
   "id": "74fe9e78cb49d4ff",
   "metadata": {
    "ExecuteTime": {
     "end_time": "2024-03-13T02:15:29.330955Z",
     "start_time": "2024-03-13T02:15:29.325452Z"
    }
   },
   "outputs": [],
   "source": [
    "dataset_counts = defaultdict(int)\n",
    "for file_path in files:\n",
    "    dataset_name = file_path.split(\"med_datasets/\")[1].split(\"/\")[0]\n",
    "    dataset_counts[dataset_name] += 1"
   ]
  },
  {
   "cell_type": "code",
   "execution_count": null,
   "id": "7f42a91d492f4eb0",
   "metadata": {},
   "outputs": [],
   "source": [
    "plot_dataset_counts(dataset_counts)"
   ]
  },
  {
   "cell_type": "code",
   "execution_count": null,
   "id": "93514c93289d0df",
   "metadata": {},
   "outputs": [],
   "source": [
    "file_path = random.choice(files)\n",
    "file_path = files[0]\n",
    "ds = pydicom.dcmread(file_path)\n",
    "img = ds.pixel_array\n",
    "print(img.dtype)"
   ]
  },
  {
   "cell_type": "code",
   "execution_count": null,
   "id": "3d954d3ce84cae07",
   "metadata": {},
   "outputs": [],
   "source": [
    "file_path"
   ]
  },
  {
   "cell_type": "code",
   "execution_count": null,
   "id": "2749f94a71d78a48",
   "metadata": {},
   "outputs": [],
   "source": [
    "ds"
   ]
  },
  {
   "cell_type": "code",
   "execution_count": null,
   "id": "3b8131d795b6d9ad",
   "metadata": {},
   "outputs": [],
   "source": [
    "print(img.min(), img.max(), img.max()-img.min())"
   ]
  },
  {
   "cell_type": "code",
   "execution_count": null,
   "id": "a013f0111b81765d",
   "metadata": {},
   "outputs": [],
   "source": [
    "plt.imshow(img.astype(np.float16), cmap=\"gray\")"
   ]
  },
  {
   "cell_type": "code",
   "execution_count": null,
   "id": "415a9536a9dea9d",
   "metadata": {},
   "outputs": [],
   "source": [
    "plt.imshow(img.astype(np.float16), cmap=\"gray\")"
   ]
  },
  {
   "cell_type": "code",
   "execution_count": null,
   "id": "364469b303cf6e25",
   "metadata": {},
   "outputs": [],
   "source": []
  }
 ],
 "metadata": {
  "kernelspec": {
   "name": "python3",
   "language": "python",
   "display_name": "Python 3 (ipykernel)"
  },
  "language_info": {
   "codemirror_mode": {
    "name": "ipython",
    "version": 3
   },
   "file_extension": ".py",
   "mimetype": "text/x-python",
   "name": "python",
   "nbconvert_exporter": "python",
   "pygments_lexer": "ipython3",
   "version": "3.9.18"
  }
 },
 "nbformat": 4,
 "nbformat_minor": 5
}
