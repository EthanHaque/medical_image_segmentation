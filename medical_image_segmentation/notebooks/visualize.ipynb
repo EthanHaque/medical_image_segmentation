{
 "cells": [
  {
   "cell_type": "code",
   "execution_count": null,
   "id": "initial_id",
   "metadata": {
    "collapsed": true
   },
   "outputs": [],
   "source": [
    "from typing import List, Tuple\n",
    "\n",
    "import medical_image_segmentation.analyze_data.utils as utils\n",
    "import matplotlib.pyplot as plt\n",
    "import numpy as np\n",
    "from collections import Counter, defaultdict\n",
    "\n",
    "import json\n",
    "import os\n",
    "\n",
    "import pydicom\n",
    "import random\n"
   ]
  },
  {
   "cell_type": "code",
   "outputs": [],
   "source": [
    "import matplotlib as mpl\n",
    "mpl.rc('image', cmap='cool')\n",
    "\n",
    "def get_discrete_colors(n: int, solid=False) -> List[Tuple[float, float, float, float]]:\n",
    "    \"\"\"\n",
    "    Gets the discrete colors for all plots.\n",
    "    \n",
    "    Parameters\n",
    "    ----------\n",
    "    n : int The number of items to get colors for.\n",
    "    solid : bool [default: False] If True, all colors are the same. Otherwise, returns a discrete sampling over a gradient.\n",
    "\n",
    "    Returns\n",
    "    -------\n",
    "    List[Tuple[float, float, float, float]]\n",
    "        List of tuples of RGBA colors.\n",
    "    \"\"\"\n",
    "    if solid:\n",
    "        return [mpl.colors.to_rgba(\"darkorchid\") for x in range(n)]\n",
    "    else:\n",
    "        cmap = mpl.colormaps[\"cool\"]\n",
    "        return cmap(np.linspace(0, 1, n))"
   ],
   "metadata": {
    "collapsed": false
   },
   "id": "aa57547f5060edc1",
   "execution_count": null
  },
  {
   "cell_type": "code",
   "outputs": [],
   "source": [
    "def plot_image_shapes(image_shapes: List[List[int]]):\n",
    "    \"\"\"\n",
    "    Plot image sizes on a scatter plot, with more frequent sizes represented by larger points.\n",
    "\n",
    "    Parameters\n",
    "    ----------\n",
    "    image_shapes : List[List[int]] List of width, height pairs.\n",
    "    \"\"\"\n",
    "    shape_counter = Counter(tuple(shape) for shape in image_shapes)\n",
    "    widths, heights, counts = zip(*[(shape[0], shape[1], count) for shape, count in shape_counter.items()])\n",
    "\n",
    "    widths = np.array(widths)\n",
    "    heights = np.array(heights)\n",
    "    counts = np.array(counts)\n",
    "    \n",
    "    max_size = 10_000\n",
    "    min_size = 1\n",
    "    point_sizes = np.clip(counts / np.max(counts) * max_size, min_size, max_size)\n",
    "\n",
    "    plt.figure(figsize=(10, 6))\n",
    "    plt.scatter(widths, heights, s=point_sizes, c=np.sqrt(widths * heights), alpha=0.8)\n",
    "    plt.colorbar(label=\"Sqrt of Area (pixels^2)\")\n",
    "    plt.title(\"Distribution of DICOM Image Dimensions\")\n",
    "    plt.xlabel(\"Width (pixels)\")\n",
    "    plt.ylabel(\"Height (pixels)\")\n",
    "    plt.tight_layout()\n",
    "\n",
    "    plt.show()"
   ],
   "metadata": {
    "collapsed": false
   },
   "id": "ac7313fe2fdda5e6",
   "execution_count": null
  },
  {
   "cell_type": "code",
   "outputs": [],
   "source": [
    "subset_image_path_list_file_path = \"/scratch/gpfs/eh0560/repos/medical-image-segmentation/data/dicom_image_analysis_info/image_path_list\""
   ],
   "metadata": {
    "collapsed": false
   },
   "id": "1cf12d466ca02569",
   "execution_count": null
  },
  {
   "cell_type": "code",
   "outputs": [],
   "source": [
    "with open(subset_image_path_list_file_path, \"r\") as f:\n",
    "    files = f.readlines()\n",
    "\n",
    "files = [file.strip() for file in files]"
   ],
   "metadata": {
    "collapsed": false
   },
   "id": "f3af14cf124f6a3d",
   "execution_count": null
  },
  {
   "cell_type": "code",
   "outputs": [],
   "source": [
    "dimensions_output_path = \"/scratch/gpfs/eh0560/repos/medical-image-segmentation/data/dicom_image_analysis_info/dicom_image_dimensions.json\""
   ],
   "metadata": {
    "collapsed": false
   },
   "id": "ac1d7e05cec4e0d4",
   "execution_count": null
  },
  {
   "cell_type": "code",
   "outputs": [],
   "source": [
    "if os.path.isfile(dimensions_output_path):\n",
    "    with open(dimensions_output_path, \"r\") as f:\n",
    "        dimensions = json.load(f)\n",
    "        subset_dimensions = {}\n",
    "        for file_path in files:\n",
    "            subset_dimensions[file_path] = dimensions[file_path]\n",
    "        \n",
    "    if len(subset_dimensions) != len(files):\n",
    "        raise ValueError(f\"subset_dimensions has length different than files. Length of files is {len(files)}, and length of subset_dimensions is {len(subset_dimensions)}\")\n",
    "else:\n",
    "    subset_dimensions = utils.get_dicom_image_dimensions(files, num_processes=8)"
   ],
   "metadata": {
    "collapsed": false
   },
   "id": "e8afbd4b31e7914c",
   "execution_count": null
  },
  {
   "cell_type": "code",
   "outputs": [],
   "source": [
    "plot_image_shapes(list(subset_dimensions.values()))"
   ],
   "metadata": {
    "collapsed": false
   },
   "id": "f7b116a339bdba6a",
   "execution_count": null
  },
  {
   "cell_type": "code",
   "outputs": [],
   "source": [
    "dataset_counts = defaultdict(int)\n",
    "for file_path in files:\n",
    "    dataset_name = file_path.split(\"med_datasets/\")[1].split(\"/\")[0]\n",
    "    dataset_counts[dataset_name] += 1"
   ],
   "metadata": {
    "collapsed": false
   },
   "id": "74fe9e78cb49d4ff",
   "execution_count": null
  },
  {
   "cell_type": "code",
   "outputs": [],
   "source": [
    "def plot_dataset_counts(dataset_dict: dict[str, int]):\n",
    "    \"\"\"\n",
    "    Plot the number of images in each dataset.\n",
    "\n",
    "    Parameters\n",
    "    ----------\n",
    "    dataset_dict : dict[str, int]\n",
    "        A dictionary where the keys are the name of the dataset and the value is the number of images in that dataset.\n",
    "    \"\"\"\n",
    "    names = sorted(list(dataset_dict.keys()))\n",
    "    counts = []\n",
    "    for dataset_name in names:\n",
    "        counts.append(dataset_dict[dataset_name])\n",
    "    n = len(counts)\n",
    "    \n",
    "    plt.figure(figsize=(10, 6))\n",
    "    plt.bar(names, counts, color=get_discrete_colors(n, solid=True))\n",
    "    plt.title(\"Distribution of DICOM Images in Each Dataset\")\n",
    "    plt.xlabel(\"Dataset\")\n",
    "    plt.xticks(rotation=45, ha=\"right\")\n",
    "    plt.ylabel(\"Frequency\")\n",
    "    plt.tight_layout()\n",
    "\n",
    "    plt.show()"
   ],
   "metadata": {
    "collapsed": false
   },
   "id": "f286252ad8e902e8",
   "execution_count": null
  },
  {
   "cell_type": "code",
   "outputs": [],
   "source": [
    "plot_dataset_counts(dataset_counts)"
   ],
   "metadata": {
    "collapsed": false
   },
   "id": "7f42a91d492f4eb0",
   "execution_count": null
  },
  {
   "cell_type": "code",
   "outputs": [],
   "source": [
    "file_path = random.choice(files)\n",
    "file_path = files[0]\n",
    "ds = pydicom.dcmread(file_path)\n",
    "img = ds.pixel_array\n",
    "print(img.dtype)"
   ],
   "metadata": {
    "collapsed": false
   },
   "id": "93514c93289d0df",
   "execution_count": null
  },
  {
   "cell_type": "code",
   "outputs": [],
   "source": [
    "file_path"
   ],
   "metadata": {
    "collapsed": false
   },
   "id": "3d954d3ce84cae07",
   "execution_count": null
  },
  {
   "cell_type": "code",
   "outputs": [],
   "source": [
    "ds"
   ],
   "metadata": {
    "collapsed": false
   },
   "id": "2749f94a71d78a48",
   "execution_count": null
  },
  {
   "cell_type": "code",
   "outputs": [],
   "source": [
    "print(img.min(), img.max(), img.max()-img.min())"
   ],
   "metadata": {
    "collapsed": false
   },
   "id": "3b8131d795b6d9ad",
   "execution_count": null
  },
  {
   "cell_type": "code",
   "outputs": [],
   "source": [
    "plt.imshow(img.astype(np.float16), cmap=\"gray\")"
   ],
   "metadata": {
    "collapsed": false
   },
   "id": "a013f0111b81765d",
   "execution_count": null
  },
  {
   "cell_type": "code",
   "outputs": [],
   "source": [
    "plt.imshow(img.astype(np.float16), cmap=\"gray\")"
   ],
   "metadata": {
    "collapsed": false
   },
   "id": "415a9536a9dea9d",
   "execution_count": null
  },
  {
   "cell_type": "code",
   "outputs": [],
   "source": [],
   "metadata": {
    "collapsed": false
   },
   "id": "364469b303cf6e25"
  }
 ],
 "metadata": {
  "kernelspec": {
   "display_name": "Python 3",
   "language": "python",
   "name": "python3"
  },
  "language_info": {
   "codemirror_mode": {
    "name": "ipython",
    "version": 2
   },
   "file_extension": ".py",
   "mimetype": "text/x-python",
   "name": "python",
   "nbconvert_exporter": "python",
   "pygments_lexer": "ipython2",
   "version": "2.7.6"
  }
 },
 "nbformat": 4,
 "nbformat_minor": 5
}
