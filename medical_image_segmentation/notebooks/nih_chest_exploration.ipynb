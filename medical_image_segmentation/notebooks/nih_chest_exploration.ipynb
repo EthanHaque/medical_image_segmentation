{
 "cells": [
  {
   "cell_type": "code",
   "execution_count": null,
   "id": "initial_id",
   "metadata": {
    "collapsed": true
   },
   "outputs": [],
   "source": [
    "import pandas as pd\n",
    "import os\n",
    "import matplotlib.pyplot as plt\n",
    "from PIL import Image\n",
    "\n",
    "from medical_image_segmentation.analyze_data.utils import get_file_paths"
   ]
  },
  {
   "cell_type": "code",
   "outputs": [],
   "source": [
    "root_dir = \"/scratch/gpfs/RUSTOW/med_datasets/nih_chest_x_rays\""
   ],
   "metadata": {
    "collapsed": false
   },
   "id": "4dafcaf1e8ee4804",
   "execution_count": null
  },
  {
   "cell_type": "code",
   "outputs": [],
   "source": [
    "csv_path = os.path.join(root_dir, \"Data_Entry_2017.csv\")\n",
    "df = pd.read_csv(csv_path)"
   ],
   "metadata": {
    "collapsed": false
   },
   "id": "d4949c123da07583",
   "execution_count": null
  },
  {
   "cell_type": "code",
   "outputs": [],
   "source": [
    "images_list = get_file_paths(root_dir, lambda x: x.endswith(\".png\"))"
   ],
   "metadata": {
    "collapsed": false
   },
   "id": "b820fe6b0d964af7",
   "execution_count": null
  },
  {
   "cell_type": "code",
   "outputs": [],
   "source": [
    "image_to_label_map = dict(zip(df[\"Image Index\"], df[\"Finding Labels\"]))"
   ],
   "metadata": {
    "collapsed": false
   },
   "id": "335729d04de6077",
   "execution_count": null
  },
  {
   "cell_type": "code",
   "outputs": [],
   "source": [
    "label_count = {}\n",
    "for image, labels in image_to_label_map.items():\n",
    "    if labels not in label_count:\n",
    "        label_count[labels] = 1\n",
    "    else:\n",
    "        label_count[labels] += 1"
   ],
   "metadata": {
    "collapsed": false
   },
   "id": "60b21361899bef8d",
   "execution_count": null
  },
  {
   "cell_type": "code",
   "outputs": [],
   "source": [
    "kept_labels = []\n",
    "for label, count in label_count.items():\n",
    "    if count >= 1000 and \"|\" not in label:\n",
    "        kept_labels.append(label)\n",
    "\n",
    "print(kept_labels)"
   ],
   "metadata": {
    "collapsed": false
   },
   "id": "e1a226d28ac44298",
   "execution_count": null
  },
  {
   "cell_type": "code",
   "outputs": [],
   "source": [
    "image_index_to_image_path_map = {}\n",
    "for image_path in images_list:\n",
    "    index = image_path.split(\"/\")[-1]\n",
    "    image_index_to_image_path_map[index] = image_path"
   ],
   "metadata": {
    "collapsed": false
   },
   "id": "d752cc7c0c2166a0",
   "execution_count": null
  },
  {
   "cell_type": "code",
   "outputs": [],
   "source": [
    "df[\"Image Path\"] = df[\"Image Index\"].map(image_index_to_image_path_map)"
   ],
   "metadata": {
    "collapsed": false
   },
   "id": "1db2c4a5d4662253",
   "execution_count": null
  },
  {
   "cell_type": "code",
   "outputs": [],
   "source": [
    "df = df[df[\"Finding Labels\"].isin(kept_labels)]"
   ],
   "metadata": {
    "collapsed": false
   },
   "id": "27f25d2138f06be6",
   "execution_count": null
  },
  {
   "cell_type": "code",
   "outputs": [],
   "source": [
    "df = df.groupby('Finding Labels').sample(n=1000, random_state=42)\n",
    "print(df['Finding Labels'].value_counts())"
   ],
   "metadata": {
    "collapsed": false
   },
   "id": "d62be4bcb60a2b1",
   "execution_count": null
  },
  {
   "cell_type": "code",
   "outputs": [],
   "source": [
    "df = df[[\"Finding Labels\", \"Image Path\", \"Image Index\"]].reset_index(drop=True)\n",
    "df = df.rename(columns={\"Finding Labels\": \"label\", \"Image Path\": \"image_path\", \"Image Index\": \"image_index\"})"
   ],
   "metadata": {
    "collapsed": false
   },
   "id": "8f3ae3945f620c69",
   "execution_count": null
  },
  {
   "cell_type": "code",
   "outputs": [],
   "source": [
    "df"
   ],
   "metadata": {
    "collapsed": false
   },
   "id": "216817b04db58a6e",
   "execution_count": null
  },
  {
   "cell_type": "code",
   "outputs": [],
   "source": [
    "output_path = \"/scratch/gpfs/eh0560/repos/medical-image-segmentation/data/nih_chest_x_ray_subset_info/original_image_path_to_label.csv\"\n",
    "df.to_csv(output_path, index=False)"
   ],
   "metadata": {
    "collapsed": false
   },
   "id": "e83ba01db58fd7c6",
   "execution_count": null
  }
 ],
 "metadata": {
  "kernelspec": {
   "display_name": "Python 3",
   "language": "python",
   "name": "python3"
  },
  "language_info": {
   "codemirror_mode": {
    "name": "ipython",
    "version": 2
   },
   "file_extension": ".py",
   "mimetype": "text/x-python",
   "name": "python",
   "nbconvert_exporter": "python",
   "pygments_lexer": "ipython2",
   "version": "2.7.6"
  }
 },
 "nbformat": 4,
 "nbformat_minor": 5
}
